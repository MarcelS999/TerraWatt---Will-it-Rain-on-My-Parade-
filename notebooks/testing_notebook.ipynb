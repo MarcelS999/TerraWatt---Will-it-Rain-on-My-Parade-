{
 "cells": [
  {
   "cell_type": "code",
   "execution_count": 2,
   "id": "fd88a4e3-ac7c-46d8-9bd8-59f3a8521f5d",
   "metadata": {},
   "outputs": [
    {
     "name": "stdout",
     "output_type": "stream",
     "text": [
      "User: uRN4G7T08eD0aXWdqOjn\n",
      "Pass: sarnecki_marcel\n"
     ]
    }
   ],
   "source": [
    "import os\n",
    "from dotenv import load_dotenv\n",
    "load_dotenv()\n",
    "print(\"User:\", os.getenv(\"METEO_USERNAME\"))\n",
    "print(\"Pass:\", os.getenv(\"METEO_PASSWORD\"))\n",
    "\n"
   ]
  },
  {
   "cell_type": "code",
   "execution_count": 1,
   "id": "a4caaef0-b6cb-49ff-8b7e-9e4288ffc276",
   "metadata": {},
   "outputs": [
    {
     "name": "stdout",
     "output_type": "stream",
     "text": [
      "EPSG:4326\n",
      "MultiPolygon    151\n",
      "Polygon         107\n",
      "Name: count, dtype: int64\n",
      "        featurecla  scalerank  LABELRANK SOVEREIGNT SOV_A3  ADM0_DIF  LEVEL  \\\n",
      "0  Admin-0 country          0          2  Indonesia    IDN         0      2   \n",
      "1  Admin-0 country          0          3   Malaysia    MYS         0      2   \n",
      "2  Admin-0 country          0          2      Chile    CHL         0      2   \n",
      "3  Admin-0 country          0          3    Bolivia    BOL         0      2   \n",
      "4  Admin-0 country          0          2       Peru    PER         0      2   \n",
      "\n",
      "                TYPE TLC      ADMIN  ... FCLASS_TR  FCLASS_ID FCLASS_PL  \\\n",
      "0  Sovereign country   1  Indonesia  ...      None       None      None   \n",
      "1  Sovereign country   1   Malaysia  ...      None       None      None   \n",
      "2  Sovereign country   1      Chile  ...      None       None      None   \n",
      "3  Sovereign country   1    Bolivia  ...      None       None      None   \n",
      "4  Sovereign country   1       Peru  ...      None       None      None   \n",
      "\n",
      "  FCLASS_GR  FCLASS_IT FCLASS_NL FCLASS_SE  FCLASS_BD FCLASS_UA  \\\n",
      "0      None       None      None      None       None      None   \n",
      "1      None       None      None      None       None      None   \n",
      "2      None       None      None      None       None      None   \n",
      "3      None       None      None      None       None      None   \n",
      "4      None       None      None      None       None      None   \n",
      "\n",
      "                                            geometry  \n",
      "0  MULTIPOLYGON (((117.70361 4.16341, 117.70361 4...  \n",
      "1  MULTIPOLYGON (((117.70361 4.16341, 117.69711 4...  \n",
      "2  MULTIPOLYGON (((-69.51009 -17.50659, -69.50611...  \n",
      "3  POLYGON ((-69.51009 -17.50659, -69.51009 -17.5...  \n",
      "4  MULTIPOLYGON (((-69.51009 -17.50659, -69.63832...  \n",
      "\n",
      "[5 rows x 169 columns]\n"
     ]
    }
   ],
   "source": [
    "import geopandas as gpd\n",
    "gdf = gpd.read_file(\"data/shape/ne_10m_admin_0_countries.shp\")\n",
    "print(gdf.crs)\n",
    "print(gdf.geometry.geom_type.value_counts())\n",
    "print(gdf.head())\n"
   ]
  },
  {
   "cell_type": "code",
   "execution_count": 2,
   "id": "5943436c-89fd-4b52-bdc4-cfedef865f56",
   "metadata": {},
   "outputs": [],
   "source": [
    "import geopandas as gpd\n",
    "\n",
    "gdf = gpd.read_file(\"data/shape/ne_10m_admin_0_countries.shp\")\n",
    "gdf.to_file(\"data/shape/ne_10m_admin_0_countries.geojson\", driver=\"GeoJSON\")"
   ]
  },
  {
   "cell_type": "code",
   "execution_count": 1,
   "id": "aab8a9ab-8cdc-400f-a8b0-4722cbbe70aa",
   "metadata": {},
   "outputs": [
    {
     "name": "stdout",
     "output_type": "stream",
     "text": [
      "MultiPolygon    151\n",
      "Polygon         107\n",
      "Name: count, dtype: int64\n"
     ]
    }
   ],
   "source": [
    "import geopandas as gpd\n",
    "gdf = gpd.read_file(\"data/shape/ne_10m_admin_0_countries.geojson\")\n",
    "print(gdf.geometry.geom_type.value_counts())\n"
   ]
  },
  {
   "cell_type": "code",
   "execution_count": 1,
   "id": "8ca32161-7f3f-4328-a033-725aaea23cf5",
   "metadata": {},
   "outputs": [
    {
     "name": "stderr",
     "output_type": "stream",
     "text": [
      "C:\\Users\\Marcel\\.conda\\envs\\parade\\lib\\site-packages\\pyogrio\\raw.py:198: RuntimeWarning: Several features with id = 27144164 have been found. Altering it to be unique. This warning will not be emitted anymore for this layer\n",
      "  return ogr_read(\n",
      "C:\\Users\\Marcel\\.conda\\envs\\parade\\lib\\site-packages\\pyogrio\\raw.py:198: RuntimeWarning: Several features with id = 66493710 have been found. Altering it to be unique. This warning will not be emitted anymore for this layer\n",
      "  return ogr_read(\n"
     ]
    },
    {
     "name": "stdout",
     "output_type": "stream",
     "text": [
      "EPSG:4326\n",
      "EPSG:4326\n"
     ]
    }
   ],
   "source": [
    "import geopandas as gpd\n",
    "\n",
    "subs = gpd.read_file(\"data/osm/substations_110kV_clean.geojson\")\n",
    "lines = gpd.read_file(\"data/osm/lines_110kV_clean.geojson\")\n",
    "\n",
    "print(subs.crs)\n",
    "print(lines.crs)\n"
   ]
  },
  {
   "cell_type": "code",
   "execution_count": 2,
   "id": "6c1779f5-d72f-4275-966f-0b65a7339160",
   "metadata": {},
   "outputs": [
    {
     "name": "stdout",
     "output_type": "stream",
     "text": [
      "1470 [-9.6930478 51.6756821 -6.0818068 55.1316259]\n"
     ]
    },
    {
     "name": "stderr",
     "output_type": "stream",
     "text": [
      "C:\\Users\\Marcel\\.conda\\envs\\parade\\lib\\site-packages\\pyogrio\\raw.py:198: RuntimeWarning: Several features with id = 66493710 have been found. Altering it to be unique. This warning will not be emitted anymore for this layer\n",
      "  return ogr_read(\n"
     ]
    }
   ],
   "source": [
    "import geopandas as gpd\n",
    "lines = gpd.read_file(\"data/osm/lines_110kV_clean.geojson\")\n",
    "print(len(lines), lines.total_bounds)"
   ]
  },
  {
   "cell_type": "code",
   "execution_count": 12,
   "id": "7adec62e-13d4-45bc-80cb-0cc819f11f58",
   "metadata": {},
   "outputs": [
    {
     "name": "stdout",
     "output_type": "stream",
     "text": [
      "✅ Saved hourly Ireland demand → data/processed/ireland_demand_hourly_2024.csv\n",
      "             DateTime  system_demand_MW\n",
      "0 2024-01-01 00:00:00         3412.3650\n",
      "1 2024-01-01 01:00:00         3264.4625\n",
      "2 2024-01-01 02:00:00         3147.2175\n",
      "3 2024-01-01 03:00:00         3017.0750\n",
      "4 2024-01-01 04:00:00         2934.5750\n"
     ]
    },
    {
     "name": "stderr",
     "output_type": "stream",
     "text": [
      "C:\\Users\\Marcel\\AppData\\Local\\Temp\\ipykernel_24148\\1437612487.py:30: FutureWarning: 'H' is deprecated and will be removed in a future version, please use 'h' instead.\n",
      "  .resample(\"1H\")\n"
     ]
    }
   ],
   "source": [
    "import pandas as pd\n",
    "import os\n",
    "\n",
    "# --- File path ---\n",
    "INPUT_PATH = r\"C:\\Users\\Marcel\\will_it_rain_on_my_parade\\data\\raw\\System_Data_Qtr_Hourly_2024(1).xlsx\"\n",
    "OUTPUT_PATH = \"data/processed/ireland_demand_hourly_2024.csv\"\n",
    "\n",
    "# --- Load Excel ---\n",
    "# Adjust sheet_name if needed (e.g., \"Sheet1\" or \"Demand Data\")\n",
    "df = pd.read_excel(INPUT_PATH)\n",
    "\n",
    "# --- Normalize column names (remove spaces etc.) ---\n",
    "df.columns = df.columns.str.strip()\n",
    "\n",
    "# --- Parse timestamp ---\n",
    "df[\"DateTime\"] = pd.to_datetime(df[\"DateTime\"], errors=\"coerce\")\n",
    "\n",
    "# --- Keep only relevant columns ---\n",
    "if \"IE Demand\" not in df.columns:\n",
    "    raise ValueError(\"❌ 'IE Demand' column not found in Excel sheet\")\n",
    "\n",
    "df = df[[\"DateTime\", \"IE Demand\"]].dropna()\n",
    "\n",
    "# --- Convert demand to numeric ---\n",
    "df[\"IE Demand\"] = pd.to_numeric(df[\"IE Demand\"], errors=\"coerce\")\n",
    "\n",
    "# --- Aggregate to hourly average ---\n",
    "df_hourly = (\n",
    "    df.set_index(\"DateTime\")\n",
    "      .resample(\"1H\")\n",
    "      .mean()\n",
    "      .reset_index()\n",
    ")\n",
    "\n",
    "# --- Rename for clarity ---\n",
    "df_hourly.rename(columns={\"IE Demand\": \"system_demand_MW\"}, inplace=True)\n",
    "\n",
    "# --- Save cleaned result ---\n",
    "os.makedirs(os.path.dirname(OUTPUT_PATH), exist_ok=True)\n",
    "df_hourly.to_csv(OUTPUT_PATH, index=False)\n",
    "\n",
    "print(\"✅ Saved hourly Ireland demand →\", OUTPUT_PATH)\n",
    "print(df_hourly.head())\n"
   ]
  },
  {
   "cell_type": "code",
   "execution_count": null,
   "id": "a02a5e13-8fe5-4919-8e56-e1086a03117a",
   "metadata": {},
   "outputs": [],
   "source": [
    "import os\n",
    "import geopandas as gpd\n",
    "from shapely.geometry import box\n",
    "\n",
    "# Define project root relative to this script\n",
    "PROJECT_ROOT = os.path.abspath(r\"C:\\Users\\Marcel\\will_it_rain_on_my_parade\")\n",
    "\n",
    "# Paths\n",
    "BUILT_PATH = os.path.join(PROJECT_ROOT, \"data\", \"shape\", \"ne_10m_urban_areas.shp\")\n",
    "COUNTRIES_PATH = os.path.join(PROJECT_ROOT, \"data\", \"shape\", \"ne_10m_admin_0_countries.geojson\")\n",
    "\n",
    "# Load Ireland boundary\n",
    "countries = gpd.read_file(COUNTRIES_PATH)\n",
    "ireland = countries[\n",
    "    (countries[\"ADMIN\"].str.lower() == \"ireland\") |\n",
    "    (countries[\"NAME_LONG\"].str.lower() == \"ireland\")\n",
    "].to_crs(\"EPSG:4326\")\n",
    "\n",
    "# Load built-up areas (global)\n",
    "built = gpd.read_file(BUILT_PATH)\n",
    "\n",
    "# Clip to Ireland\n",
    "built_ie = gpd.clip(built.to_crs(\"EPSG:4326\"), ireland)\n",
    "\n",
    "# Save filtered file\n",
    "out_path = os.path.join(PROJECT_ROOT, \"data\", \"shape\", \"built_up_ireland.geojson\")\n",
    "built_ie.to_file(out_path, driver=\"GeoJSON\")\n",
    "\n",
    "print(f\"✅ Saved Ireland-only built-up areas → {out_path} ({len(built_ie)} features)\")\n",
    "\n"
   ]
  },
  {
   "cell_type": "code",
   "execution_count": 19,
   "id": "6160c18f-6247-47ab-b210-0e0da17e1229",
   "metadata": {},
   "outputs": [
    {
     "name": "stdout",
     "output_type": "stream",
     "text": [
      "✅ Map preview generated → preview_built_up_ireland.html\n",
      "🌍 Open it in your browser to explore.\n"
     ]
    }
   ],
   "source": [
    "import geopandas as gpd\n",
    "import folium\n",
    "\n",
    "# Load your Ireland-only built-up GeoJSON\n",
    "geo_path = r\"C:\\Users\\Marcel\\will_it_rain_on_my_parade\\data\\shape\\built_up_ireland.geojson\"\n",
    "built_ie = gpd.read_file(geo_path)\n",
    "\n",
    "# ✅ Fallback name column (since Natural Earth urban areas have no 'name' field)\n",
    "if \"name\" not in built_ie.columns:\n",
    "    built_ie[\"name\"] = built_ie.apply(\n",
    "        lambda r: f\"Urban area #{r.name} ({round(r.get('area_sqkm', 0), 1)} km²)\", axis=1\n",
    "    )\n",
    "\n",
    "# Compute approximate center for map view\n",
    "bounds = built_ie.total_bounds\n",
    "center_lat = (bounds[1] + bounds[3]) / 2\n",
    "center_lon = (bounds[0] + bounds[2]) / 2\n",
    "\n",
    "# Create Folium map\n",
    "m = folium.Map(location=[center_lat, center_lon], zoom_start=7, tiles=\"cartodbpositron\")\n",
    "\n",
    "# Add built-up areas (gray polygons)\n",
    "folium.GeoJson(\n",
    "    built_ie.to_json(),\n",
    "    name=\"🏙️ Built-up Areas (Ireland)\",\n",
    "    style_function=lambda x: {\n",
    "        \"color\": \"#666666\",\n",
    "        \"fillColor\": \"#999999\",\n",
    "        \"fillOpacity\": 0.5,\n",
    "        \"weight\": 0.8,\n",
    "    },\n",
    "    tooltip=folium.GeoJsonTooltip(fields=[\"name\"], aliases=[\"Urban Area:\"]),\n",
    ").add_to(m)\n",
    "\n",
    "folium.LayerControl(collapsed=False).add_to(m)\n",
    "\n",
    "# Save temporary HTML preview\n",
    "m.save(\"preview_built_up_ireland.html\")\n",
    "\n",
    "print(\"✅ Map preview generated → preview_built_up_ireland.html\")\n",
    "print(\"🌍 Open it in your browser to explore.\")\n"
   ]
  },
  {
   "cell_type": "code",
   "execution_count": null,
   "id": "18bbf35d-2052-4113-9b2b-b4f3a5b93836",
   "metadata": {},
   "outputs": [],
   "source": [
    "import pystac_client\n",
    "catalog = pystac_client.Client.open(\"https://planetarycomputer.microsoft.com/api/stac/v1\")\n",
    "for coll in catalog.get_collections():\n",
    "    print(coll.id)"
   ]
  },
  {
   "cell_type": "code",
   "execution_count": 30,
   "id": "32b107b5-85af-4fb0-a060-3422efb405f0",
   "metadata": {},
   "outputs": [
    {
     "name": "stdout",
     "output_type": "stream",
     "text": [
      "<xarray.Dataset> Size: 2kB\n",
      "Dimensions:                        (lon: 23, lat: 17)\n",
      "Coordinates:\n",
      "  * lon                            (lon) float32 92B 349.0 349.2 ... 354.2 354.5\n",
      "  * lat                            (lat) float32 68B 55.5 55.25 ... 51.75 51.5\n",
      "Data variables:\n",
      "    __xarray_dataarray_variable__  (lat, lon) float32 2kB ...\n",
      "    spatial_ref                    int32 4B ...\n"
     ]
    }
   ],
   "source": [
    "import xarray as xr\n",
    "\n",
    "ds = xr.open_dataset(\"C:/Users/Marcel/will_it_rain_on_my_parade/data/era5/era5_ireland_mean_wind_2009_2024.nc\")\n",
    "CLIM_PATH = os.path.join(PROJECT_ROOT, \"data\", \"era5\", \"era5_ireland_mean_wind_2009_2024.csv\")\n",
    "\n",
    "print(ds)\n",
    "\n"
   ]
  },
  {
   "cell_type": "code",
   "execution_count": 28,
   "id": "42b779f0-5379-40d5-96bf-e8946a8d23a4",
   "metadata": {},
   "outputs": [
    {
     "name": "stdout",
     "output_type": "stream",
     "text": [
      "C:/Users/Marcel/will_it_rain_on_my_parade\\data\\era5\\era5_ie_2020.nc\n",
      "C:/Users/Marcel/will_it_rain_on_my_parade\\src\\utils\\data\\era5\\era5_ireland_mean_wind_2009_2024.nc\n"
     ]
    }
   ],
   "source": [
    "import os5_ireland_mean_wind_2009_2024.csv\n",
    "\n",
    "for root, dirs, files in os.walk(\"C:/Users/Marcel/will_it_rain_on_my_parade\"):\n",
    "    for f in files:\n",
    "        if f.endswith(\".nc\"):\n",
    "            print(os.path.join(root, f))\n",
    "\n"
   ]
  },
  {
   "cell_type": "code",
   "execution_count": 32,
   "id": "cc178931-02e7-4682-b1eb-e6d6167b37f3",
   "metadata": {},
   "outputs": [
    {
     "name": "stdout",
     "output_type": "stream",
     "text": [
      "📂 Loading NetCDF: C:\\Users\\Marcel\\will_it_rain_on_my_parade\\data\\era5\\era5_ireland_mean_wind_2009_2024.nc\n",
      "📊 Found variable: __xarray_dataarray_variable__\n",
      "✅ Exported CSV → C:\\Users\\Marcel\\will_it_rain_on_my_parade\\data\\era5\\era5_ireland_mean_wind_1994_2024.csv\n",
      "   latitude  longitude  wind_speed_10m\n",
      "0      55.5     349.00        9.233665\n",
      "1      55.5     349.25        9.200921\n",
      "2      55.5     349.50        9.173604\n",
      "3      55.5     349.75        9.095283\n",
      "4      55.5     350.00        9.049292\n"
     ]
    }
   ],
   "source": [
    "import xarray as xr\n",
    "import pandas as pd\n",
    "import os\n",
    "\n",
    "# === Corrected paths ===\n",
    "PROJECT_ROOT = r\"C:\\Users\\Marcel\\will_it_rain_on_my_parade\"\n",
    "NC_PATH = os.path.join(PROJECT_ROOT, \"data\", \"era5\", \"era5_ireland_mean_wind_2009_2024.nc\")\n",
    "CSV_OUT = os.path.join(PROJECT_ROOT, \"data\", \"era5\", \"era5_ireland_mean_wind_1994_2024.csv\")\n",
    "\n",
    "# === Load dataset ===\n",
    "print(f\"📂 Loading NetCDF: {NC_PATH}\")\n",
    "ds = xr.open_dataset(NC_PATH)\n",
    "\n",
    "# === Identify variable ===\n",
    "varname = list(ds.data_vars.keys())[0]\n",
    "print(f\"📊 Found variable: {varname}\")\n",
    "\n",
    "# === Convert to DataFrame ===\n",
    "df = ds[varname].to_dataframe(name=\"wind_speed_10m\").reset_index()\n",
    "\n",
    "# === Clean and save ===\n",
    "df = df.rename(columns={\"lat\": \"latitude\", \"lon\": \"longitude\"})\n",
    "os.makedirs(os.path.dirname(CSV_OUT), exist_ok=True)\n",
    "df.to_csv(CSV_OUT, index=False)\n",
    "\n",
    "print(f\"✅ Exported CSV → {CSV_OUT}\")\n",
    "print(df.head())\n",
    "\n"
   ]
  },
  {
   "cell_type": "code",
   "execution_count": 33,
   "id": "331979a6-ec5d-47ab-8877-b3885e27ac1d",
   "metadata": {},
   "outputs": [
    {
     "name": "stdout",
     "output_type": "stream",
     "text": [
      "12\n",
      "era5-pds-2019-12-an\n",
      "era5-pds-2019-11-an\n",
      "era5-pds-2019-10-an\n"
     ]
    }
   ],
   "source": [
    "import pystac_client\n",
    "\n",
    "catalog = pystac_client.Client.open(\"https://planetarycomputer.microsoft.com/api/stac/v1/\")\n",
    "search = catalog.search(\n",
    "    collections=[\"era5-pds\"],\n",
    "    datetime=\"2019-01-01/2019-12-31\",\n",
    "    query={\"era5:kind\": {\"eq\": \"an\"}}\n",
    ")\n",
    "\n",
    "items = list(search.item_collection())\n",
    "print(len(items))\n",
    "for item in items[:3]:\n",
    "    print(item.id)\n",
    "\n"
   ]
  },
  {
   "cell_type": "code",
   "execution_count": 1,
   "id": "e1f207d6-21dc-4345-b711-d7c804d69446",
   "metadata": {},
   "outputs": [
    {
     "name": "stdout",
     "output_type": "stream",
     "text": [
      "Shape: (17, 23)\n",
      "Min: 1.438983 Max: 3.5367448\n",
      "NaN count: 0 of 391\n"
     ]
    }
   ],
   "source": [
    "import rasterio, numpy as np, os\n",
    "\n",
    "tif_path = r\"C:\\Users\\Marcel\\will_it_rain_on_my_parade\\data\\era5\\era5_ireland_std_1994_2024.tif\"\n",
    "\n",
    "with rasterio.open(tif_path) as src:\n",
    "    arr = src.read(1)\n",
    "    print(\"Shape:\", arr.shape)\n",
    "    print(\"Min:\", np.nanmin(arr), \"Max:\", np.nanmax(arr))\n",
    "    print(\"NaN count:\", np.isnan(arr).sum(), \"of\", arr.size)"
   ]
  },
  {
   "cell_type": "code",
   "execution_count": 1,
   "id": "39064d3b-6daf-4130-afb3-e7e21a6ac3d4",
   "metadata": {},
   "outputs": [
    {
     "name": "stdout",
     "output_type": "stream",
     "text": [
      "Mean: 6.25933\n",
      "Min : 3.551474\n",
      "Max : 9.192362\n"
     ]
    }
   ],
   "source": [
    "import rasterio\n",
    "import numpy as np\n",
    "\n",
    "path = \"data/era5/era5_ireland_mean_1994_2024.tif\"\n",
    "with rasterio.open(path) as src:\n",
    "    arr = src.read(1)\n",
    "    print(\"Mean:\", np.nanmean(arr))\n",
    "    print(\"Min :\", np.nanmin(arr))\n",
    "    print(\"Max :\", np.nanmax(arr))"
   ]
  },
  {
   "cell_type": "code",
   "execution_count": null,
   "id": "9ea55ffd-18c6-4e7c-8757-12296370d368",
   "metadata": {},
   "outputs": [],
   "source": []
  }
 ],
 "metadata": {
  "kernelspec": {
   "display_name": "Python 3 (ipykernel)",
   "language": "python",
   "name": "python3"
  },
  "language_info": {
   "codemirror_mode": {
    "name": "ipython",
    "version": 3
   },
   "file_extension": ".py",
   "mimetype": "text/x-python",
   "name": "python",
   "nbconvert_exporter": "python",
   "pygments_lexer": "ipython3",
   "version": "3.10.18"
  }
 },
 "nbformat": 4,
 "nbformat_minor": 5
}
